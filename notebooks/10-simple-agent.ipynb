{
 "cells": [
  {
   "cell_type": "markdown",
   "id": "87aa3f4a-2f49-4de3-b12f-21e2aa9185f3",
   "metadata": {},
   "source": [
    "# How to build a simple Agent LLM App with LangGraph\n"
   ]
  },
  {
   "cell_type": "code",
   "execution_count": 4,
   "id": "752d97cb-b473-42b3-91cc-e3a991d2914d",
   "metadata": {},
   "outputs": [],
   "source": [
    "import os\n",
    "from dotenv import load_dotenv, find_dotenv\n",
    "_ = load_dotenv(find_dotenv())\n",
    "openai_api_key = os.environ[\"OPENAI_API_KEY\"]"
   ]
  },
  {
   "cell_type": "code",
   "execution_count": 5,
   "id": "db7815c1-eb1e-4f0e-9707-46756b8456d5",
   "metadata": {},
   "outputs": [],
   "source": [
    "from langchain_openai import ChatOpenAI\n",
    "\n",
    "llm = ChatOpenAI(model=\"gpt-3.5-turbo\")"
   ]
  },
  {
   "cell_type": "markdown",
   "id": "857a5415-61a2-4acb-8a72-582ea72d4d11",
   "metadata": {},
   "source": [
    "## Agents\n",
    "* Agents use LLMs as reasoning engines to determine which actions to take."
   ]
  },
  {
   "cell_type": "code",
   "execution_count": 6,
   "id": "966f8634-c941-43eb-93f6-31dbc691cbd9",
   "metadata": {},
   "outputs": [
    {
     "data": {
      "text/plain": [
       "[{'url': 'https://talksport.com/football/1755223/euro-2024-best-players-cristiano-ronaldo-harry-kane-jude-bellingham-kylian-mbappe/',\n",
       "  'content': \"Kane is just one of the names of serious talent that are set to star at Euro 2024 Credit: Getty. Gareth Southgate's side face stiff competition though as World Cup finalists France remain one of ...\"},\n",
       " {'url': 'https://www.nbcsports.com/soccer/news/euro-2024-player-power-rankings-who-are-the-top-20-stars',\n",
       "  'content': 'Plus, every tournament there are always stars who emerge to make a name for themselves and players from Georgia and Austria are standing tall. Below are the top 20 players at EURO 2024 based on current form and we will update it throughout the tournament.'}]"
      ]
     },
     "execution_count": 6,
     "metadata": {},
     "output_type": "execute_result"
    }
   ],
   "source": [
    "from langchain_community.tools.tavily_search import TavilySearchResults\n",
    "search = TavilySearchResults(max_results=2)\n",
    "search.invoke(\"Who are the top stars of the 2024 Eurocup?\")"
   ]
  },
  {
   "cell_type": "code",
   "execution_count": 8,
   "id": "45ca3ad6-db1f-4a10-8232-877144470e18",
   "metadata": {},
   "outputs": [],
   "source": [
    "tools = [search]"
   ]
  },
  {
   "cell_type": "code",
   "execution_count": 9,
   "id": "10f4bcee-a453-4148-8986-2d804b946b20",
   "metadata": {},
   "outputs": [],
   "source": [
    "llm_with_tools = llm.bind_tools(tools)"
   ]
  },
  {
   "cell_type": "markdown",
   "id": "9007ace9-e2b6-4c50-a593-5bcbab67a792",
   "metadata": {},
   "source": [
    "### Create the agent¶"
   ]
  },
  {
   "cell_type": "code",
   "execution_count": 10,
   "id": "044f872b-917f-480c-b3fb-a77e37791c0d",
   "metadata": {},
   "outputs": [],
   "source": [
    "from langgraph.prebuilt import create_react_agent\n",
    "\n",
    "agent_executor = create_react_agent(llm, tools)"
   ]
  },
  {
   "cell_type": "markdown",
   "id": "280726d7-76ed-41c9-8085-0d8ea8edead9",
   "metadata": {},
   "source": [
    "### Run the agent¶"
   ]
  },
  {
   "cell_type": "code",
   "execution_count": 11,
   "id": "be35c580-e82c-4bee-8ab9-a76749d324b9",
   "metadata": {},
   "outputs": [
    {
     "data": {
      "text/plain": [
       "[HumanMessage(content='Where is the soccer Eurocup 2024 played?', id='012dc39f-b951-4bd9-a04e-f9f3335a1a0f'),\n",
       " AIMessage(content='', additional_kwargs={'tool_calls': [{'id': 'call_r56nPjRGP3u2SXowwCFzCp45', 'function': {'arguments': '{\"query\":\"soccer Eurocup 2024 location\"}', 'name': 'tavily_search_results_json'}, 'type': 'function'}], 'refusal': None}, response_metadata={'token_usage': {'completion_tokens': 25, 'prompt_tokens': 92, 'total_tokens': 117}, 'model_name': 'gpt-3.5-turbo-0125', 'system_fingerprint': None, 'finish_reason': 'tool_calls', 'logprobs': None}, id='run-32e1f432-6a7d-49f7-b0e6-21e0e5f54e59-0', tool_calls=[{'name': 'tavily_search_results_json', 'args': {'query': 'soccer Eurocup 2024 location'}, 'id': 'call_r56nPjRGP3u2SXowwCFzCp45', 'type': 'tool_call'}], usage_metadata={'input_tokens': 92, 'output_tokens': 25, 'total_tokens': 117}),\n",
       " ToolMessage(content='[{\"url\": \"https://apnews.com/article/euro-2024-germany-stadiums-9b6953fa87d168a754df5b2480b75010\", \"content\": \"File - The Cologne Stadium is pictured in Cologne, Germany, Wednesday, April 24, 2024. The European Championship in Germany is all about tried and tested stadiums with a rich soccer history. Unlike at some recent World Cups, there\\'s been no rush to finish stadiums on time. (AP Photo/Martin Meissner, File) Read More.\"}, {\"url\": \"https://www.uefa.com/euro2024/news/0288-1999a7d1c1a5-3faffefeae27-1000--euro-2024-fixtures-by-venue/\", \"content\": \"15/06: Hungary vs Switzerland (15:00)\\\\ufeff19/06: Scotland vs Switzerland\\\\u00a0(21:00)22/06: Belgium vs Romania\\\\u00a0(21:00)25/06: England vs Slovenia (21:00)30/06: Round of 16 \\\\u2013 1B vs 3A/D/E/F (21:00)\\\\nEURO 2024 matches in Dortmund (BVB Stadion Dortmund)\\\\n15/06: Italy vs Albania\\\\u00a0(21:00)18/06: T\\\\u00fcrkiye vs Play-off winner C\\\\u00a0(18:00)22/06: T\\\\u00fcrkiye vs Portugal\\\\u00a0(18:00)25/06: France vs Play-off winner A\\\\u00a0(18:00)29/06: Round of 16 \\\\u2013 1A vs 2C (21:00)10/07: Semi-final (21:00)\\\\nEURO 2024 matches in D\\\\u00fcsseldorf (D\\\\u00fcsseldorf Arena)\\\\n17/06: Austria vs France\\\\u00a0(21:00)21/06: Slovakia vs Play-off winner B (15:00)\\\\ufeff24/06: Albania vs Spain (21:00)\\\\u00a001/07: Round of 16 \\\\u2013 2D vs 2E (18:00)06/07: Quarter-final (18:00)\\\\nEURO 2024 matches in Frankfurt (Frankfurt Arena)\\\\n17/06: Belgium vs Slovakia\\\\u00a0(18:00)\\\\u00a020/06: Denmark vs England\\\\u00a0(18:00)23/06: Switzerland vs Germany\\\\u00a0(21:00)26/06: Slovakia vs Romania\\\\u00a0(18:00)01/07: Round of 16 \\\\u2013 1F vs 3A/B/C (21:00)\\\\nEURO 2024 matches in Gelsenkirchen (Arena AufSchalke)\\\\n16/06: Serbia vs England\\\\u00a0(21:00)20/06: Spain vs Italy\\\\u00a0(21:00)26/06: Play-off winner C vs Portugal\\\\u00a0(21:00)\\\\u00a030/06: Round of 16 \\\\u2013 1C vs 3D/E/F (18:00)\\\\nEURO 2024 matches in Hamburg (Volksparkstadion Hamburg)\\\\n16/06: Play-off winner A vs Netherlands\\\\u00a0(15:00)19/06: Croatia vs Albania\\\\u00a0(15:00)22/06: Play-off winner C vs Czechia\\\\u00a0(15:00)\\\\u00a026/06: Czechia vs T\\\\u00fcrkiye\\\\u00a0(21:00)\\\\u00a005/07: Quarter-final (21:00)\\\\nEURO 2024 matches in Leipzig (Leipzig Stadium)\\\\n Portugal vs Czechia\\\\u00a0(21:00)21/06: Netherlands vs France\\\\u00a0(21:00)24/06: Croatia vs Italy\\\\u00a0(21:00)02/07: Round of 16 \\\\u2013 1D vs 2F (21:00)\\\\nEURO 2024 matches in Munich (Munich Football Arena)\\\\n14/06: Germany vs Scotland\\\\u00a0(21:00)17/06: Romania vs Play-off winner B\\\\u00a0(15:00)20/06: Slovenia vs Serbia\\\\u00a0(15:00)\\\\u00a025/06: Denmark vs Serbia\\\\u00a0(21:00)\\\\u00a002/07: Round of 16 \\\\u2013 1E vs 3A/B/C/D (18:00)09/07: Semi-final (21:00)\\\\nEURO 2024 matches in Stuttgart (Stuttgart Arena)\\\\ufeff\\\\n16/06: Slovenia vs Denmark\\\\u00a0(18:00)19/06: Germany vs Hungary\\\\u00a0(18:00)23/06: Scotland vs Hungary\\\\u00a0(21:00)26/06: Play-off winner B vs Belgium\\\\u00a0(18:00)\\\\u00a005/07: Quarter-final (18:00)\\\\nSelected for you\\\\nEURO 2024 fixtures by team\\\\nEURO 2024 group stage draw\\\\nEURO 2024 match schedule\\\\nEURO 2024: 15/06: Spain vs Croatia (18:00)21/06: Play-off winner A vs Austria\\\\u00a0(18:00)25/06: Netherlands vs Austria (18:00)29/06: Round of 16 \\\\u2013 2A vs 2B (18:00)06/07: Quarter-final (21:00)14/07: Final (21:00)\\\\nEURO 2024 matches in Cologne (Cologne Stadium)\\\\n EURO 2024 fixtures by venue: Which games will take place where?\\\\nWednesday, March 20, 2024\\\\nArticle summary\\\\nPlanning a trip to Germany for UEFA EURO 2024? Article top media content\\\\nArticle body\\\\nCheck out which UEFA EURO 2024 fixtures are set to be held in each of the ten host cities.\"}]', name='tavily_search_results_json', id='88e54a70-5e60-4e66-b45d-1e833e60d385', tool_call_id='call_r56nPjRGP3u2SXowwCFzCp45', artifact={'query': 'soccer Eurocup 2024 location', 'follow_up_questions': None, 'answer': None, 'images': [], 'results': [{'title': 'Euro 2024: Guide to the 10 stadiums across Germany and their games', 'url': 'https://apnews.com/article/euro-2024-germany-stadiums-9b6953fa87d168a754df5b2480b75010', 'content': \"File - The Cologne Stadium is pictured in Cologne, Germany, Wednesday, April 24, 2024. The European Championship in Germany is all about tried and tested stadiums with a rich soccer history. Unlike at some recent World Cups, there's been no rush to finish stadiums on time. (AP Photo/Martin Meissner, File) Read More.\", 'score': 0.99465674, 'raw_content': None}, {'title': 'EURO 2024 fixtures by venue: Which games took place where?', 'url': 'https://www.uefa.com/euro2024/news/0288-1999a7d1c1a5-3faffefeae27-1000--euro-2024-fixtures-by-venue/', 'content': '15/06: Hungary vs Switzerland (15:00)\\ufeff19/06: Scotland vs Switzerland\\xa0(21:00)22/06: Belgium vs Romania\\xa0(21:00)25/06: England vs Slovenia (21:00)30/06: Round of 16 – 1B vs 3A/D/E/F (21:00)\\nEURO 2024 matches in Dortmund (BVB Stadion Dortmund)\\n15/06: Italy vs Albania\\xa0(21:00)18/06: Türkiye vs Play-off winner C\\xa0(18:00)22/06: Türkiye vs Portugal\\xa0(18:00)25/06: France vs Play-off winner A\\xa0(18:00)29/06: Round of 16 – 1A vs 2C (21:00)10/07: Semi-final (21:00)\\nEURO 2024 matches in Düsseldorf (Düsseldorf Arena)\\n17/06: Austria vs France\\xa0(21:00)21/06: Slovakia vs Play-off winner B (15:00)\\ufeff24/06: Albania vs Spain (21:00)\\xa001/07: Round of 16 – 2D vs 2E (18:00)06/07: Quarter-final (18:00)\\nEURO 2024 matches in Frankfurt (Frankfurt Arena)\\n17/06: Belgium vs Slovakia\\xa0(18:00)\\xa020/06: Denmark vs England\\xa0(18:00)23/06: Switzerland vs Germany\\xa0(21:00)26/06: Slovakia vs Romania\\xa0(18:00)01/07: Round of 16 – 1F vs 3A/B/C (21:00)\\nEURO 2024 matches in Gelsenkirchen (Arena AufSchalke)\\n16/06: Serbia vs England\\xa0(21:00)20/06: Spain vs Italy\\xa0(21:00)26/06: Play-off winner C vs Portugal\\xa0(21:00)\\xa030/06: Round of 16 – 1C vs 3D/E/F (18:00)\\nEURO 2024 matches in Hamburg (Volksparkstadion Hamburg)\\n16/06: Play-off winner A vs Netherlands\\xa0(15:00)19/06: Croatia vs Albania\\xa0(15:00)22/06: Play-off winner C vs Czechia\\xa0(15:00)\\xa026/06: Czechia vs Türkiye\\xa0(21:00)\\xa005/07: Quarter-final (21:00)\\nEURO 2024 matches in Leipzig (Leipzig Stadium)\\n Portugal vs Czechia\\xa0(21:00)21/06: Netherlands vs France\\xa0(21:00)24/06: Croatia vs Italy\\xa0(21:00)02/07: Round of 16 – 1D vs 2F (21:00)\\nEURO 2024 matches in Munich (Munich Football Arena)\\n14/06: Germany vs Scotland\\xa0(21:00)17/06: Romania vs Play-off winner B\\xa0(15:00)20/06: Slovenia vs Serbia\\xa0(15:00)\\xa025/06: Denmark vs Serbia\\xa0(21:00)\\xa002/07: Round of 16 – 1E vs 3A/B/C/D (18:00)09/07: Semi-final (21:00)\\nEURO 2024 matches in Stuttgart (Stuttgart Arena)\\ufeff\\n16/06: Slovenia vs Denmark\\xa0(18:00)19/06: Germany vs Hungary\\xa0(18:00)23/06: Scotland vs Hungary\\xa0(21:00)26/06: Play-off winner B vs Belgium\\xa0(18:00)\\xa005/07: Quarter-final (18:00)\\nSelected for you\\nEURO 2024 fixtures by team\\nEURO 2024 group stage draw\\nEURO 2024 match schedule\\nEURO 2024: 15/06: Spain vs Croatia (18:00)21/06: Play-off winner A vs Austria\\xa0(18:00)25/06: Netherlands vs Austria (18:00)29/06: Round of 16 – 2A vs 2B (18:00)06/07: Quarter-final (21:00)14/07: Final (21:00)\\nEURO 2024 matches in Cologne (Cologne Stadium)\\n EURO 2024 fixtures by venue: Which games will take place where?\\nWednesday, March 20, 2024\\nArticle summary\\nPlanning a trip to Germany for UEFA EURO 2024? Article top media content\\nArticle body\\nCheck out which UEFA EURO 2024 fixtures are set to be held in each of the ten host cities.', 'score': 0.98593634, 'raw_content': None}], 'response_time': 1.9}),\n",
       " AIMessage(content='The soccer Eurocup 2024 will be played in Germany, with matches scheduled to take place in various stadiums across the country. Some of the host cities for the Eurocup 2024 matches include Cologne, Dortmund, Düsseldorf, Frankfurt, Gelsenkirchen, Hamburg, Leipzig, Munich, and Stuttgart.', additional_kwargs={'refusal': None}, response_metadata={'token_usage': {'completion_tokens': 64, 'prompt_tokens': 1472, 'total_tokens': 1536}, 'model_name': 'gpt-3.5-turbo-0125', 'system_fingerprint': None, 'finish_reason': 'stop', 'logprobs': None}, id='run-752ba4f1-282e-47db-bac7-a51b278c170a-0', usage_metadata={'input_tokens': 1472, 'output_tokens': 64, 'total_tokens': 1536})]"
      ]
     },
     "execution_count": 11,
     "metadata": {},
     "output_type": "execute_result"
    }
   ],
   "source": [
    "from langchain_core.messages import HumanMessage\n",
    "\n",
    "response = agent_executor.invoke({\"messages\": [HumanMessage(content=\"Where is the soccer Eurocup 2024 played?\")]})\n",
    "\n",
    "response[\"messages\"]"
   ]
  },
  {
   "cell_type": "code",
   "execution_count": 12,
   "id": "c00b466e-e1cf-4a59-83a8-5bc02572da06",
   "metadata": {},
   "outputs": [
    {
     "name": "stdout",
     "output_type": "stream",
     "text": [
      "{'agent': {'messages': [AIMessage(content='', additional_kwargs={'tool_calls': [{'id': 'call_Gt5NplksLy9mAZXgoFxYdYxE', 'function': {'arguments': '{\"query\":\"2024 Eurocup final match date and location\"}', 'name': 'tavily_search_results_json'}, 'type': 'function'}], 'refusal': None}, response_metadata={'token_usage': {'completion_tokens': 26, 'prompt_tokens': 96, 'total_tokens': 122}, 'model_name': 'gpt-3.5-turbo-0125', 'system_fingerprint': None, 'finish_reason': 'tool_calls', 'logprobs': None}, id='run-96ae909f-1bee-4bee-a715-67674b7095bf-0', tool_calls=[{'name': 'tavily_search_results_json', 'args': {'query': '2024 Eurocup final match date and location'}, 'id': 'call_Gt5NplksLy9mAZXgoFxYdYxE', 'type': 'tool_call'}], usage_metadata={'input_tokens': 96, 'output_tokens': 26, 'total_tokens': 122})]}}\n",
      "----\n",
      "{'tools': {'messages': [ToolMessage(content='[{\"url\": \"https://en.wikipedia.org/wiki/UEFA_Euro_2024_Final\", \"content\": \"The UEFA Euro 2024 final was a football match that determined the winners of UEFA Euro 2024.The match was the seventeenth final of the European Championship, a quadrennial tournament contested by the men\\'s national teams of the member associations of UEFA to decide the champions of Europe. The match was held at the Olympiastadion in Berlin, Germany, on 14 July 2024, and was contested by Spain ...\"}, {\"url\": \"https://www.uefa.com/euro2024/news/0284-18bb952a9458-2a9e1ff202c4-1000--euro-2024-final-when-and-where-is-it/\", \"content\": \"The UEFA EURO 2024 final was played on Sunday 14 July, kicking off at 21:00 CET. The final: all the reaction. The match took place at Olympiastadion Berlin, the biggest stadium at the tournament ...\"}]', name='tavily_search_results_json', tool_call_id='call_Gt5NplksLy9mAZXgoFxYdYxE', artifact={'query': '2024 Eurocup final match date and location', 'follow_up_questions': None, 'answer': None, 'images': [], 'results': [{'title': 'UEFA Euro 2024 final - Wikipedia', 'url': 'https://en.wikipedia.org/wiki/UEFA_Euro_2024_Final', 'content': \"The UEFA Euro 2024 final was a football match that determined the winners of UEFA Euro 2024.The match was the seventeenth final of the European Championship, a quadrennial tournament contested by the men's national teams of the member associations of UEFA to decide the champions of Europe. The match was held at the Olympiastadion in Berlin, Germany, on 14 July 2024, and was contested by Spain ...\", 'score': 0.99915075, 'raw_content': None}, {'title': 'EURO 2024 final: Who was in it? When and where was it?', 'url': 'https://www.uefa.com/euro2024/news/0284-18bb952a9458-2a9e1ff202c4-1000--euro-2024-final-when-and-where-is-it/', 'content': 'The UEFA EURO 2024 final was played on Sunday 14 July, kicking off at 21:00 CET. The final: all the reaction. The match took place at Olympiastadion Berlin, the biggest stadium at the tournament ...', 'score': 0.9987934, 'raw_content': None}], 'response_time': 1.88})]}}\n",
      "----\n",
      "{'agent': {'messages': [AIMessage(content='The 2024 Eurocup final match will be held at the Olympiastadion in Berlin, Germany, on 14 July 2024.', additional_kwargs={'refusal': None}, response_metadata={'token_usage': {'completion_tokens': 32, 'prompt_tokens': 359, 'total_tokens': 391}, 'model_name': 'gpt-3.5-turbo-0125', 'system_fingerprint': None, 'finish_reason': 'stop', 'logprobs': None}, id='run-0d85566a-a9ff-41b1-8591-c1c3ede19c53-0', usage_metadata={'input_tokens': 359, 'output_tokens': 32, 'total_tokens': 391})]}}\n",
      "----\n"
     ]
    }
   ],
   "source": [
    "## stream\n",
    "\n",
    "\n",
    "for chunk in agent_executor.stream(\n",
    "    {\"messages\": [HumanMessage(content=\"When and where will it be the 2024 Eurocup final match?\")]}\n",
    "):\n",
    "    print(chunk)\n",
    "    print(\"----\")"
   ]
  },
  {
   "cell_type": "markdown",
   "id": "d1f5316d-de36-4eaa-88b1-19fc4517c4ab",
   "metadata": {},
   "source": [
    "### Adding memory"
   ]
  },
  {
   "cell_type": "code",
   "execution_count": 14,
   "id": "163a0131-ebce-4705-baad-61720eb63c96",
   "metadata": {},
   "outputs": [],
   "source": [
    "from langgraph.checkpoint.memory import MemorySaver\n",
    "\n",
    "memory = MemorySaver()"
   ]
  },
  {
   "cell_type": "code",
   "execution_count": 15,
   "id": "b7ce2923-a262-411f-a051-717596778c3a",
   "metadata": {},
   "outputs": [],
   "source": [
    "agent_executor = create_react_agent(llm, tools, checkpointer=memory)\n",
    "\n",
    "config = {\"configurable\": {\"thread_id\": \"001\"}}"
   ]
  },
  {
   "cell_type": "code",
   "execution_count": 16,
   "id": "e686abd1-fee4-4b88-9d05-d2e924f32e4a",
   "metadata": {},
   "outputs": [
    {
     "name": "stdout",
     "output_type": "stream",
     "text": [
      "{'agent': {'messages': [AIMessage(content='', additional_kwargs={'tool_calls': [{'id': 'call_i0VE98BtGQRw8ZNB3AUvsNfy', 'function': {'arguments': '{\"query\":\"2024 soccer Eurocup winner\"}', 'name': 'tavily_search_results_json'}, 'type': 'function'}], 'refusal': None}, response_metadata={'token_usage': {'completion_tokens': 23, 'prompt_tokens': 91, 'total_tokens': 114}, 'model_name': 'gpt-3.5-turbo-0125', 'system_fingerprint': None, 'finish_reason': 'tool_calls', 'logprobs': None}, id='run-4cb77cd6-ee9d-4443-b995-f681792295c0-0', tool_calls=[{'name': 'tavily_search_results_json', 'args': {'query': '2024 soccer Eurocup winner'}, 'id': 'call_i0VE98BtGQRw8ZNB3AUvsNfy', 'type': 'tool_call'}], usage_metadata={'input_tokens': 91, 'output_tokens': 23, 'total_tokens': 114})]}}\n",
      "----\n",
      "{'tools': {'messages': [ToolMessage(content='[{\"url\": \"https://www.nbcnewyork.com/news/sports/soccer/spain-england-euro-final-score-result/5595340/?os=os&ref=app\", \"content\": \"La Furia Roja on Sunday claimed the Euro 2024 trophy after beating England 2-1 in the final. ... Winners, losers from 2024-25 Premier League summer transfer window ... \\\\u2014 FOX Soccer (@FOXSoccer ...\"}, {\"url\": \"https://www.sportingnews.com/us/soccer/news/who-won-euro-2024-spain-england-oyarzabal/19ab0b3bf663194bc5193e50\", \"content\": \"Spain won the 2024 European Championship, becoming the first team to lift the trophy four times, beating England 2-1 thanks to a late winner from Mikel Oyarzabal.\"}]', name='tavily_search_results_json', tool_call_id='call_i0VE98BtGQRw8ZNB3AUvsNfy', artifact={'query': '2024 soccer Eurocup winner', 'follow_up_questions': None, 'answer': None, 'images': [], 'results': [{'title': 'Spain beats England 2-1 to win Euro 2024 Final - NBC New York', 'url': 'https://www.nbcnewyork.com/news/sports/soccer/spain-england-euro-final-score-result/5595340/?os=os&ref=app', 'content': 'La Furia Roja on Sunday claimed the Euro 2024 trophy after beating England 2-1 in the final. ... Winners, losers from 2024-25 Premier League summer transfer window ... — FOX Soccer (@FOXSoccer ...', 'score': 0.99690056, 'raw_content': None}, {'title': 'Who won Euro 2024? Spain make history with win over ... - Sporting News', 'url': 'https://www.sportingnews.com/us/soccer/news/who-won-euro-2024-spain-england-oyarzabal/19ab0b3bf663194bc5193e50', 'content': 'Spain won the 2024 European Championship, becoming the first team to lift the trophy four times, beating England 2-1 thanks to a late winner from Mikel Oyarzabal.', 'score': 0.99619037, 'raw_content': None}], 'response_time': 1.79})]}}\n",
      "----\n",
      "{'agent': {'messages': [AIMessage(content='Spain won the 2024 soccer Eurocup by beating England 2-1 in the final.', additional_kwargs={'refusal': None}, response_metadata={'token_usage': {'completion_tokens': 21, 'prompt_tokens': 316, 'total_tokens': 337}, 'model_name': 'gpt-3.5-turbo-0125', 'system_fingerprint': None, 'finish_reason': 'stop', 'logprobs': None}, id='run-e31b5ff4-e947-4c3a-9a8c-2f745a289108-0', usage_metadata={'input_tokens': 316, 'output_tokens': 21, 'total_tokens': 337})]}}\n",
      "----\n"
     ]
    }
   ],
   "source": [
    "for chunk in agent_executor.stream(\n",
    "    {\"messages\": [HumanMessage(content=\"Who won the 2024 soccer Eurocup?\")]}, config\n",
    "):\n",
    "    print(chunk)\n",
    "    print(\"----\")"
   ]
  },
  {
   "cell_type": "code",
   "execution_count": 17,
   "id": "9ee4542f-901a-44c6-b3a3-1d4314bb5d97",
   "metadata": {},
   "outputs": [
    {
     "name": "stdout",
     "output_type": "stream",
     "text": [
      "{'agent': {'messages': [AIMessage(content='The top stars of the Spain team that won the 2024 soccer Eurocup included Mikel Oyarzabal, who scored a late winner in the final against England.', additional_kwargs={'refusal': None}, response_metadata={'token_usage': {'completion_tokens': 36, 'prompt_tokens': 354, 'total_tokens': 390}, 'model_name': 'gpt-3.5-turbo-0125', 'system_fingerprint': None, 'finish_reason': 'stop', 'logprobs': None}, id='run-2fa92989-91da-40c5-b5be-e19ad0298729-0', usage_metadata={'input_tokens': 354, 'output_tokens': 36, 'total_tokens': 390})]}}\n",
      "----\n"
     ]
    }
   ],
   "source": [
    "for chunk in agent_executor.stream(\n",
    "    {\"messages\": [HumanMessage(content=\"Who were the top stars of that winner team?\")]}, config\n",
    "):\n",
    "    print(chunk)\n",
    "    print(\"----\")"
   ]
  },
  {
   "cell_type": "code",
   "execution_count": 18,
   "id": "d22c43d6-eff7-4d60-8c29-4f786ca564ab",
   "metadata": {},
   "outputs": [
    {
     "name": "stdout",
     "output_type": "stream",
     "text": [
      "{'agent': {'messages': [AIMessage(content='You were asking about the Real Madrid soccer team. Would you like me to provide you with more information about them?', additional_kwargs={'refusal': None}, response_metadata={'token_usage': {'completion_tokens': 24, 'prompt_tokens': 89, 'total_tokens': 113}, 'model_name': 'gpt-3.5-turbo-0125', 'system_fingerprint': None, 'finish_reason': 'stop', 'logprobs': None}, id='run-a43c93a1-49e6-440b-84e1-da49d8265aa9-0', usage_metadata={'input_tokens': 89, 'output_tokens': 24, 'total_tokens': 113})]}}\n",
      "----\n"
     ]
    }
   ],
   "source": [
    "config = {\"configurable\": {\"thread_id\": \"002\"}}\n",
    "for chunk in agent_executor.stream(\n",
    "    {\"messages\": [HumanMessage(content=\"About what soccer team we were talking?\")]}, config\n",
    "):\n",
    "    print(chunk)\n",
    "    print(\"----\")"
   ]
  },
  {
   "cell_type": "code",
   "execution_count": null,
   "id": "879b561c-606b-4949-b081-2a1805c9f37c",
   "metadata": {},
   "outputs": [],
   "source": []
  }
 ],
 "metadata": {
  "kernelspec": {
   "display_name": "Python 3 (ipykernel)",
   "language": "python",
   "name": "python3"
  },
  "language_info": {
   "codemirror_mode": {
    "name": "ipython",
    "version": 3
   },
   "file_extension": ".py",
   "mimetype": "text/x-python",
   "name": "python",
   "nbconvert_exporter": "python",
   "pygments_lexer": "ipython3",
   "version": "3.9.4"
  }
 },
 "nbformat": 4,
 "nbformat_minor": 5
}
