{
 "cells": [
  {
   "cell_type": "markdown",
   "id": "15d198c9-53a4-430f-a05c-0dc36ace6e38",
   "metadata": {},
   "source": [
    "# How to build an advanced Chatbot with session memory using LangChain\n",
    "\n",
    "**Objectives**\n",
    "\n",
    "- Will be able to have a conversation.\n",
    "- Will remember previous interactions: will have memory.\n",
    "- Will be able to have different memories for different user sessions.\n",
    "- Will be able to remember a limited number of messages: limited memory."
   ]
  },
  {
   "cell_type": "code",
   "execution_count": 1,
   "id": "1d39d6a6-8664-41a3-b80f-37ce999d8369",
   "metadata": {},
   "outputs": [],
   "source": [
    "import os\n",
    "from dotenv import load_dotenv, find_dotenv\n",
    "_ = load_dotenv(find_dotenv())\n",
    "openai_api_key = os.environ[\"OPENAI_API_KEY\"]"
   ]
  },
  {
   "cell_type": "code",
   "execution_count": 2,
   "id": "4d47c834-3a58-41b5-bcde-5a4a9c883a6f",
   "metadata": {},
   "outputs": [],
   "source": [
    "# Connect with an LLM and start a conversation with it\n",
    "\n",
    "from langchain_openai import ChatOpenAI\n",
    "\n",
    "chatbot = ChatOpenAI(model=\"gpt-3.5-turbo\")"
   ]
  },
  {
   "cell_type": "code",
   "execution_count": 3,
   "id": "63b53cce-1e1d-4d8e-adb3-c0327f630783",
   "metadata": {},
   "outputs": [],
   "source": [
    "# mesage input\n",
    "\n",
    "from langchain_core.messages import HumanMessage\n",
    "\n",
    "messagesToTheChatbot = [\n",
    "    HumanMessage(content=\"My favourite color is blue.\"),\n",
    "]"
   ]
  },
  {
   "cell_type": "code",
   "execution_count": 4,
   "id": "93bd8c55-9645-4a71-948d-3c1da7a98cb9",
   "metadata": {},
   "outputs": [
    {
     "data": {
      "text/plain": [
       "AIMessage(content='Blue is a calming and peaceful color that brings a sense of tranquility and serenity. It is also associated with trust, loyalty, and integrity. I love how versatile blue is, it can be bright and vibrant or soft and soothing. Blue reminds me of the sky and the ocean, both of which bring me a sense of peace and happiness. Overall, blue is a color that brings me joy and comfort, which is why it is my favourite.', additional_kwargs={'refusal': None}, response_metadata={'token_usage': {'completion_tokens': 91, 'prompt_tokens': 13, 'total_tokens': 104}, 'model_name': 'gpt-3.5-turbo-0125', 'system_fingerprint': None, 'finish_reason': 'stop', 'logprobs': None}, id='run-e3ca41e6-4005-4ae5-8730-1eaccf882290-0', usage_metadata={'input_tokens': 13, 'output_tokens': 91, 'total_tokens': 104})"
      ]
     },
     "execution_count": 4,
     "metadata": {},
     "output_type": "execute_result"
    }
   ],
   "source": [
    "# call the LLM\n",
    "\n",
    "chatbot.invoke(messagesToTheChatbot)"
   ]
  },
  {
   "cell_type": "code",
   "execution_count": 5,
   "id": "d508fda0-6be2-4550-ae68-3ba72c66df94",
   "metadata": {},
   "outputs": [
    {
     "data": {
      "text/plain": [
       "AIMessage(content=\"I'm sorry, I do not have that information. Can you please tell me what your favorite color is?\", additional_kwargs={'refusal': None}, response_metadata={'token_usage': {'completion_tokens': 22, 'prompt_tokens': 13, 'total_tokens': 35}, 'model_name': 'gpt-3.5-turbo-0125', 'system_fingerprint': None, 'finish_reason': 'stop', 'logprobs': None}, id='run-d8590bee-2c9a-44e4-b6e2-7fd551a77bdb-0', usage_metadata={'input_tokens': 13, 'output_tokens': 22, 'total_tokens': 35})"
      ]
     },
     "execution_count": 5,
     "metadata": {},
     "output_type": "execute_result"
    }
   ],
   "source": [
    "# Check if the Chatbot remembers your favorite color.¶\n",
    "chatbot.invoke([\n",
    "    HumanMessage(content=\"What is my favorite color?\")\n",
    "])"
   ]
  },
  {
   "cell_type": "markdown",
   "id": "365e057b-140e-40e8-b630-6faac2d71c5a",
   "metadata": {},
   "source": [
    "## Let's add memory to our Chatbot\n"
   ]
  },
  {
   "cell_type": "code",
   "execution_count": 6,
   "id": "3f483055-966d-4f4b-bf43-8d354f9ec56d",
   "metadata": {},
   "outputs": [],
   "source": [
    "from langchain_community.chat_message_histories import ChatMessageHistory\n",
    "from langchain_core.chat_history import BaseChatMessageHistory\n",
    "from langchain_core.runnables.history import RunnableWithMessageHistory\n",
    "\n",
    "chatbotMemory = {}\n",
    "\n",
    "# input: session_id, output: chatbotMemory[session_id]\n",
    "def get_session_history(session_id: str) -> BaseChatMessageHistory:\n",
    "    if session_id not in chatbotMemory:\n",
    "        chatbotMemory[session_id] = ChatMessageHistory()\n",
    "    return chatbotMemory[session_id]\n",
    "\n",
    "\n",
    "chatbot_with_message_history = RunnableWithMessageHistory(\n",
    "    chatbot, \n",
    "    get_session_history\n",
    ")"
   ]
  },
  {
   "cell_type": "code",
   "execution_count": 7,
   "id": "1e4b2fa8-82fb-41ba-969c-1296f2e18294",
   "metadata": {},
   "outputs": [],
   "source": [
    "session1 = {\"configurable\": {\"session_id\": \"001\"}}"
   ]
  },
  {
   "cell_type": "code",
   "execution_count": 8,
   "id": "532374e0-bc4e-4c5c-b682-8bec79ae6851",
   "metadata": {},
   "outputs": [
    {
     "data": {
      "text/plain": [
       "\"That's a bold and vibrant choice! Red is often associated with passion, energy, and strength. Do you have a favorite shade of red, like crimson or cherry red?\""
      ]
     },
     "execution_count": 8,
     "metadata": {},
     "output_type": "execute_result"
    }
   ],
   "source": [
    "responseFromChatbot = chatbot_with_message_history.invoke(\n",
    "    [HumanMessage(content=\"My favorite color is red.\")],\n",
    "    config=session1,\n",
    ")\n",
    "\n",
    "responseFromChatbot.content"
   ]
  },
  {
   "cell_type": "code",
   "execution_count": 9,
   "id": "fbd7adb8-2361-4109-8602-858142332039",
   "metadata": {},
   "outputs": [
    {
     "data": {
      "text/plain": [
       "'Based on your initial statement, your favorite color is red.'"
      ]
     },
     "execution_count": 9,
     "metadata": {},
     "output_type": "execute_result"
    }
   ],
   "source": [
    "responseFromChatbot = chatbot_with_message_history.invoke(\n",
    "    [HumanMessage(content=\"What's my favorite color?\")],\n",
    "    config=session1,\n",
    ")\n",
    "\n",
    "responseFromChatbot.content"
   ]
  },
  {
   "cell_type": "code",
   "execution_count": 10,
   "id": "72f2b1e1-9e1f-494d-8015-4d4ace24daca",
   "metadata": {},
   "outputs": [],
   "source": [
    "## Let's now change the session_id and see what happens¶"
   ]
  },
  {
   "cell_type": "code",
   "execution_count": 11,
   "id": "89c49966-02c1-48e7-a790-8cbcc5d143e4",
   "metadata": {},
   "outputs": [],
   "source": [
    "session2 = {\"configurable\": {\"session_id\": \"002\"}}"
   ]
  },
  {
   "cell_type": "code",
   "execution_count": 12,
   "id": "a8c336fd-46a4-406a-b3c6-88261a029a01",
   "metadata": {},
   "outputs": [
    {
     "data": {
      "text/plain": [
       "\"I'm sorry, I do not have enough information to determine your favorite color.\""
      ]
     },
     "execution_count": 12,
     "metadata": {},
     "output_type": "execute_result"
    }
   ],
   "source": [
    "responseFromChatbot = chatbot_with_message_history.invoke(\n",
    "    [HumanMessage(content=\"What's my favorite color?\")],\n",
    "    config=session2,\n",
    ")\n",
    "\n",
    "responseFromChatbot.content"
   ]
  },
  {
   "cell_type": "code",
   "execution_count": 13,
   "id": "032a87dc-2eb3-401c-9ddf-b7afe8b88341",
   "metadata": {},
   "outputs": [],
   "source": [
    "## Let's go back to session1 and see if the memory is still there"
   ]
  },
  {
   "cell_type": "code",
   "execution_count": 14,
   "id": "2cb37f05-eb1a-46de-9165-82796680b3cf",
   "metadata": {},
   "outputs": [],
   "source": [
    "session1 = {\"configurable\": {\"session_id\": \"001\"}}"
   ]
  },
  {
   "cell_type": "code",
   "execution_count": 15,
   "id": "d77501f6-7031-4a03-ae85-5e666d03203d",
   "metadata": {},
   "outputs": [
    {
     "data": {
      "text/plain": [
       "'Your favorite color is red.'"
      ]
     },
     "execution_count": 15,
     "metadata": {},
     "output_type": "execute_result"
    }
   ],
   "source": [
    "responseFromChatbot = chatbot_with_message_history.invoke(\n",
    "    [HumanMessage(content=\"What's my favorite color?\")],\n",
    "    config=session1,\n",
    ")\n",
    "\n",
    "responseFromChatbot.content"
   ]
  },
  {
   "cell_type": "code",
   "execution_count": 16,
   "id": "d0236ed5-259d-4f0c-b4f1-4a57830b0f1d",
   "metadata": {},
   "outputs": [],
   "source": [
    "## Our ChatBot has session memory now. Let's check if it remembers the conversation from session2.¶"
   ]
  },
  {
   "cell_type": "code",
   "execution_count": 17,
   "id": "75a6619f-d769-4b3e-9a42-db7c26dd4ba9",
   "metadata": {},
   "outputs": [],
   "source": [
    "session2 = {\"configurable\": {\"session_id\": \"002\"}}"
   ]
  },
  {
   "cell_type": "code",
   "execution_count": 18,
   "id": "7cacdc19-514b-4788-a1cb-0b71d086cc44",
   "metadata": {},
   "outputs": [
    {
     "data": {
      "text/plain": [
       "\"Nice to meet you, Julio! If you'd like to share your favorite color, I'd be happy to know.\""
      ]
     },
     "execution_count": 18,
     "metadata": {},
     "output_type": "execute_result"
    }
   ],
   "source": [
    "responseFromChatbot = chatbot_with_message_history.invoke(\n",
    "    [HumanMessage(content=\"Mi name is Julio.\")],\n",
    "    config=session2,\n",
    ")\n",
    "\n",
    "responseFromChatbot.content"
   ]
  },
  {
   "cell_type": "code",
   "execution_count": 19,
   "id": "a79cbb35-a9a5-4170-aa80-5f67785405b7",
   "metadata": {},
   "outputs": [],
   "source": [
    "responseFromChatbot = chatbot_with_message_history.invoke(\n",
    "    [HumanMessage(content=\"What is my name?\")],\n",
    "    config=session2,\n",
    ")\n",
    "\n"
   ]
  },
  {
   "cell_type": "code",
   "execution_count": 20,
   "id": "c896b7c5-02d7-4948-8de8-1f77dcb96811",
   "metadata": {},
   "outputs": [
    {
     "data": {
      "text/plain": [
       "'Your name is Julio.'"
      ]
     },
     "execution_count": 20,
     "metadata": {},
     "output_type": "execute_result"
    }
   ],
   "source": [
    "responseFromChatbot.content"
   ]
  },
  {
   "cell_type": "code",
   "execution_count": 21,
   "id": "bc46e2ed-744d-4b05-842f-ca124a552eb6",
   "metadata": {},
   "outputs": [
    {
     "name": "stdout",
     "output_type": "stream",
     "text": [
      "{'001': InMemoryChatMessageHistory(messages=[HumanMessage(content='My favorite color is red.'), AIMessage(content=\"That's a bold and vibrant choice! Red is often associated with passion, energy, and strength. Do you have a favorite shade of red, like crimson or cherry red?\", additional_kwargs={'refusal': None}, response_metadata={'token_usage': {'completion_tokens': 35, 'prompt_tokens': 13, 'total_tokens': 48}, 'model_name': 'gpt-3.5-turbo-0125', 'system_fingerprint': None, 'finish_reason': 'stop', 'logprobs': None}, id='run-0ff7694a-c5ae-42ba-92e6-41b4b9f2b716-0', usage_metadata={'input_tokens': 13, 'output_tokens': 35, 'total_tokens': 48}), HumanMessage(content=\"What's my favorite color?\"), AIMessage(content='Based on your initial statement, your favorite color is red.', additional_kwargs={'refusal': None}, response_metadata={'token_usage': {'completion_tokens': 12, 'prompt_tokens': 62, 'total_tokens': 74}, 'model_name': 'gpt-3.5-turbo-0125', 'system_fingerprint': None, 'finish_reason': 'stop', 'logprobs': None}, id='run-7fc4a84c-1fa9-4e8d-b909-1af7bed6e1b5-0', usage_metadata={'input_tokens': 62, 'output_tokens': 12, 'total_tokens': 74}), HumanMessage(content=\"What's my favorite color?\"), AIMessage(content='Your favorite color is red.', additional_kwargs={'refusal': None}, response_metadata={'token_usage': {'completion_tokens': 6, 'prompt_tokens': 88, 'total_tokens': 94}, 'model_name': 'gpt-3.5-turbo-0125', 'system_fingerprint': None, 'finish_reason': 'stop', 'logprobs': None}, id='run-cfd2b10e-c705-454c-a5ca-2ce7bc51b9ad-0', usage_metadata={'input_tokens': 88, 'output_tokens': 6, 'total_tokens': 94})]), '002': InMemoryChatMessageHistory(messages=[HumanMessage(content=\"What's my favorite color?\"), AIMessage(content=\"I'm sorry, I do not have enough information to determine your favorite color.\", additional_kwargs={'refusal': None}, response_metadata={'token_usage': {'completion_tokens': 16, 'prompt_tokens': 13, 'total_tokens': 29}, 'model_name': 'gpt-3.5-turbo-0125', 'system_fingerprint': None, 'finish_reason': 'stop', 'logprobs': None}, id='run-5b00b346-cbec-47c9-8ec5-caa1f80af58a-0', usage_metadata={'input_tokens': 13, 'output_tokens': 16, 'total_tokens': 29}), HumanMessage(content='Mi name is Julio.'), AIMessage(content=\"Nice to meet you, Julio! If you'd like to share your favorite color, I'd be happy to know.\", additional_kwargs={'refusal': None}, response_metadata={'token_usage': {'completion_tokens': 24, 'prompt_tokens': 42, 'total_tokens': 66}, 'model_name': 'gpt-3.5-turbo-0125', 'system_fingerprint': None, 'finish_reason': 'stop', 'logprobs': None}, id='run-c259fbc7-1fb2-4fe0-b9d9-1c9f26ac9aeb-0', usage_metadata={'input_tokens': 42, 'output_tokens': 24, 'total_tokens': 66}), HumanMessage(content='What is my name?'), AIMessage(content='Your name is Julio.', additional_kwargs={'refusal': None}, response_metadata={'token_usage': {'completion_tokens': 5, 'prompt_tokens': 79, 'total_tokens': 84}, 'model_name': 'gpt-3.5-turbo-0125', 'system_fingerprint': None, 'finish_reason': 'stop', 'logprobs': None}, id='run-ec3ddff6-3c09-4a31-8147-00a9d01f0755-0', usage_metadata={'input_tokens': 79, 'output_tokens': 5, 'total_tokens': 84})])}\n"
     ]
    }
   ],
   "source": [
    "print(chatbotMemory)"
   ]
  },
  {
   "cell_type": "markdown",
   "id": "c08cdc13-6cd3-462f-aaea-c22fff28075c",
   "metadata": {},
   "source": [
    "### Now, let's define a function to limit the number of messages stored in memory and add it to our chain with .assign."
   ]
  },
  {
   "cell_type": "code",
   "execution_count": 22,
   "id": "b379624e-e801-41ee-b1c3-fb13f4907637",
   "metadata": {},
   "outputs": [],
   "source": [
    "from langchain_core.prompts import ChatPromptTemplate, MessagesPlaceholder\n",
    "from langchain_core.runnables import RunnablePassthrough\n",
    "\n",
    "\n",
    "def limited_memory_of_messages(messages, number_of_messages_to_keep=2):\n",
    "    return messages[-number_of_messages_to_keep:]\n",
    "\n",
    "prompt = ChatPromptTemplate.from_messages(\n",
    "    [\n",
    "        (\n",
    "            \"system\",\n",
    "            \"You are a helpful assistant. Answer all questions to the best of your ability.\",\n",
    "        ),\n",
    "        MessagesPlaceholder(variable_name=\"messages\"),\n",
    "    ]\n",
    ")\n",
    "\n",
    "limitedMemoryChain = (\n",
    "    RunnablePassthrough.assign(messages=lambda x: limited_memory_of_messages(x[\"messages\"]))\n",
    "    | prompt \n",
    "    | chatbot\n",
    ")"
   ]
  },
  {
   "cell_type": "code",
   "execution_count": 23,
   "id": "676940ce-0a41-4957-9a8d-af7d34ab0d02",
   "metadata": {},
   "outputs": [
    {
     "data": {
      "text/plain": [
       "'Vespa scooters are iconic and stylish vehicles! They have a classic design that is both practical and fun to ride. Do you have a favorite model or color of Vespa scooter?'"
      ]
     },
     "execution_count": 23,
     "metadata": {},
     "output_type": "execute_result"
    }
   ],
   "source": [
    "responseFromChatbot = chatbot_with_message_history.invoke(\n",
    "    [HumanMessage(content=\"My favorite vehicles are Vespa scooters.\")],\n",
    "    config=session1,\n",
    ")\n",
    "\n",
    "responseFromChatbot.content"
   ]
  },
  {
   "cell_type": "code",
   "execution_count": 24,
   "id": "9be2d7d1-e33e-4b6b-859b-9f80912986e0",
   "metadata": {},
   "outputs": [
    {
     "data": {
      "text/plain": [
       "'San Francisco is a beautiful and vibrant city known for its iconic landmarks, diverse culture, and picturesque views. What do you love most about San Francisco?'"
      ]
     },
     "execution_count": 24,
     "metadata": {},
     "output_type": "execute_result"
    }
   ],
   "source": [
    "responseFromChatbot = chatbot_with_message_history.invoke(\n",
    "    [HumanMessage(content=\"My favorite city is San Francisco.\")],\n",
    "    config=session1,\n",
    ")\n",
    "\n",
    "responseFromChatbot.content"
   ]
  },
  {
   "cell_type": "code",
   "execution_count": 27,
   "id": "3cc9b142-f886-4be6-9579-4b1f4a69ee27",
   "metadata": {},
   "outputs": [],
   "source": [
    "chatbot_with_limited_message_history = RunnableWithMessageHistory(\n",
    "    limitedMemoryChain,\n",
    "    get_session_history,\n",
    "    input_messages_key=\"messages\",\n",
    ")"
   ]
  },
  {
   "cell_type": "code",
   "execution_count": 25,
   "id": "aae496c5-0d7c-48fb-b682-3bfa86b4d7fa",
   "metadata": {},
   "outputs": [],
   "source": [
    "# The chatbot memory has now 4 messages. Let's check the Chatbot with limited memory. "
   ]
  },
  {
   "cell_type": "code",
   "execution_count": 28,
   "id": "8e3c5194-7e44-4b2b-a371-d8cc53549cad",
   "metadata": {},
   "outputs": [
    {
     "data": {
      "text/plain": [
       "\"I'm sorry, but as an AI assistant, I do not have personal information about you, including your favorite color. If you'd like to share your favorite color with me, I'd be happy to remember it for future reference.\""
      ]
     },
     "execution_count": 28,
     "metadata": {},
     "output_type": "execute_result"
    }
   ],
   "source": [
    "responseFromChatbot = chatbot_with_limited_message_history.invoke(\n",
    "    {\n",
    "        \"messages\": [HumanMessage(content=\"what is my favorite color?\")],\n",
    "    },\n",
    "    config=session1,\n",
    ")\n",
    "\n",
    "responseFromChatbot.content"
   ]
  },
  {
   "cell_type": "code",
   "execution_count": 29,
   "id": "a2ae68b8-8f26-47c3-83f8-9abbb4a57ed7",
   "metadata": {},
   "outputs": [],
   "source": [
    "# Finally, let's compare the previous response with the one provided by the Chatbot with unlimited memory"
   ]
  },
  {
   "cell_type": "code",
   "execution_count": 30,
   "id": "aa9cd032-6af5-4c97-84c9-b9813261e1f6",
   "metadata": {},
   "outputs": [
    {
     "data": {
      "text/plain": [
       "'Based on your previous statements, your favorite color is red.'"
      ]
     },
     "execution_count": 30,
     "metadata": {},
     "output_type": "execute_result"
    }
   ],
   "source": [
    "responseFromChatbot = chatbot_with_message_history.invoke(\n",
    "    [HumanMessage(content=\"what is my favorite color?\")],\n",
    "    config=session1,\n",
    ")\n",
    "\n",
    "responseFromChatbot.content"
   ]
  },
  {
   "cell_type": "code",
   "execution_count": null,
   "id": "4f0555ea-0247-422f-8abb-651aff83ba50",
   "metadata": {},
   "outputs": [],
   "source": []
  }
 ],
 "metadata": {
  "kernelspec": {
   "display_name": "Python 3 (ipykernel)",
   "language": "python",
   "name": "python3"
  },
  "language_info": {
   "codemirror_mode": {
    "name": "ipython",
    "version": 3
   },
   "file_extension": ".py",
   "mimetype": "text/x-python",
   "name": "python",
   "nbconvert_exporter": "python",
   "pygments_lexer": "ipython3",
   "version": "3.9.4"
  }
 },
 "nbformat": 4,
 "nbformat_minor": 5
}
