{
 "cells": [
  {
   "cell_type": "markdown",
   "id": "fabba1cf-1630-4a33-a8fb-ef568626ef3a",
   "metadata": {},
   "source": [
    "# QA over SQL data\n",
    "\n",
    "* We will create a Q&A app over tabular data in databases.\n",
    "* These app will allow us to **ask a question about the data in a database in natural language and get back an answer also in natural language**.\n",
    "* Building Q&A systems of SQL databases requires executing model-generated SQL queries. There are inherent risks in doing this. **In production, make sure that your database connection permissions** are always scoped as narrowly as possible for your chain's needs."
   ]
  },
  {
   "cell_type": "code",
   "execution_count": 1,
   "id": "94b9abf8-d41d-449d-a797-620bf4f82ca8",
   "metadata": {},
   "outputs": [],
   "source": [
    "import os\n",
    "from dotenv import load_dotenv, find_dotenv\n",
    "_ = load_dotenv(find_dotenv())\n",
    "openai_api_key = os.environ[\"OPENAI_API_KEY\"]"
   ]
  },
  {
   "cell_type": "code",
   "execution_count": 2,
   "id": "a7876a4f-dc7d-45fa-b89e-7884a27912ef",
   "metadata": {},
   "outputs": [],
   "source": [
    "from langchain_openai import ChatOpenAI\n",
    "\n",
    "llm = ChatOpenAI(model=\"gpt-3.5-turbo-0125\")"
   ]
  },
  {
   "cell_type": "markdown",
   "id": "4b790af7-ad77-4975-b141-e04d6a53a067",
   "metadata": {},
   "source": [
    "### Connect with the database"
   ]
  },
  {
   "cell_type": "code",
   "execution_count": 8,
   "id": "d5c3dbdf-fb05-4241-92fc-ebdf429d636e",
   "metadata": {},
   "outputs": [],
   "source": [
    "from langchain_community.utilities import SQLDatabase\n",
    "\n",
    "sqlite_db_path = \"data/street_tree_db.sqlite\"\n",
    "\n",
    "db = SQLDatabase.from_uri(f\"sqlite:///{sqlite_db_path}\")"
   ]
  },
  {
   "cell_type": "markdown",
   "id": "951e0bfd-572a-45e1-9d0e-542aa0d0d7b1",
   "metadata": {},
   "source": [
    "### Step 1: Translating a question in natural language into an SQL query."
   ]
  },
  {
   "cell_type": "code",
   "execution_count": 9,
   "id": "db26e011-02cc-4a08-93b6-fb0cff2dd349",
   "metadata": {},
   "outputs": [
    {
     "data": {
      "text/plain": [
       "'SELECT COUNT(DISTINCT \"qSpecies\") AS species_count\\nFROM street_trees'"
      ]
     },
     "execution_count": 9,
     "metadata": {},
     "output_type": "execute_result"
    }
   ],
   "source": [
    "from langchain.chains import create_sql_query_chain\n",
    "\n",
    "chain = create_sql_query_chain(llm, db)\n",
    "\n",
    "response = chain.invoke({\"question\": \"How many species of trees are in San Francisco?\"})\n",
    "\n",
    "response"
   ]
  },
  {
   "cell_type": "code",
   "execution_count": 10,
   "id": "dab04a75-b890-470e-a669-6bfe1eb5d3a8",
   "metadata": {},
   "outputs": [
    {
     "data": {
      "text/plain": [
       "'[(148,)]'"
      ]
     },
     "execution_count": 10,
     "metadata": {},
     "output_type": "execute_result"
    }
   ],
   "source": [
    "db.run(response)"
   ]
  },
  {
   "cell_type": "code",
   "execution_count": 11,
   "id": "579d76a5-9608-4a2a-940a-09415b67b6da",
   "metadata": {},
   "outputs": [
    {
     "name": "stdout",
     "output_type": "stream",
     "text": [
      "You are a SQLite expert. Given an input question, first create a syntactically correct SQLite query to run, then look at the results of the query and return the answer to the input question.\n",
      "Unless the user specifies in the question a specific number of examples to obtain, query for at most 5 results using the LIMIT clause as per SQLite. You can order the results to return the most informative data in the database.\n",
      "Never query for all columns from a table. You must query only the columns that are needed to answer the question. Wrap each column name in double quotes (\") to denote them as delimited identifiers.\n",
      "Pay attention to use only the column names you can see in the tables below. Be careful to not query for columns that do not exist. Also, pay attention to which column is in which table.\n",
      "Pay attention to use date('now') function to get the current date, if the question involves \"today\".\n",
      "\n",
      "Use the following format:\n",
      "\n",
      "Question: Question here\n",
      "SQLQuery: SQL Query to run\n",
      "SQLResult: Result of the SQLQuery\n",
      "Answer: Final answer here\n",
      "\n",
      "Only use the following tables:\n",
      "\u001b[33;1m\u001b[1;3m{table_info}\u001b[0m\n",
      "\n",
      "Question: \u001b[33;1m\u001b[1;3m{input}\u001b[0m\n"
     ]
    }
   ],
   "source": [
    "chain.get_prompts()[0].pretty_print()"
   ]
  },
  {
   "cell_type": "markdown",
   "id": "0c7f67a4-bd95-4379-90d1-18064c80d780",
   "metadata": {},
   "source": [
    "### Step 2: Executing the SQL query."
   ]
  },
  {
   "cell_type": "code",
   "execution_count": 12,
   "id": "98946d5d-fdac-40a9-9658-1b51bb483144",
   "metadata": {},
   "outputs": [
    {
     "data": {
      "text/plain": [
       "'[(\"Arbutus \\'Marina\\' :: Hybrid Strawberry Tree\",), (\\'Afrocarpus gracilior :: Fern Pine\\',), (\"Thuja occidentalis \\'Emerald\\' :: Emerald Arborvitae\",), (\"Magnolia grandiflora \\'Little Gem\\' :: Little Gem Magnolia\",), (\\'Platanus x hispanica :: Sycamore: London Plane\\',), (\\'Ulmus parvifolia :: Chinese Elm\\',), (\\'Leptospermum laevigatum :: Australian Tea Tree\\',), (\"Olea europaea \\'Fruitless\\' :: Fruitless Olive\",), (\\'Ficus rubiginosa :: Port Jackson Fig\\',), (\\'Cycas revoluta :: Sago palm\\',), (\\'Lophostemon confertus :: Brisbane Box\\',), (\\'Podocarpus gracilor :: Fern Pine\\',), (\\'Eriobotrya deflexa :: Bronze Loquat\\',), (\\'Ligustrum lucidum :: Glossy Privet\\',), (\\'Syagrus romanzoffianum :: Queen Palm\\',), (\"Ficus microcarpa nitida \\'Green Gem\\' :: Indian Laurel Fig Tree \\'Green Gem\\'\",), (\\'Prunus cerasifera :: Cherry Plum\\',), (\\':: To Be Determine\\',), (\\'Myoporum laetum :: Myoporum\\',), (\\'Tristaniopsis laurina :: Swamp Myrtle\\',), (\\'Ginkgo biloba :: Maidenhair Tree\\',), (\\'Pyrus calleryana :: Ornamental Pear\\',), (\"Morus alba \\'Fruitless\\' :: Fruitless Mulberry\",), (\\'Magnolia grandiflora :: Southern Magnolia\\',), (\\'Pittosporum undulatum :: Victorian Box\\',), (\\'Lyonothamnus floribundus subsp. asplenifolius :: Santa Cruz Ironwood\\',), (\\'Leptospermum scoparium :: New Zealand Tea Tree\\',), (\\'Tree(s) ::\\',), (\\'Acer rubrum :: Red Maple\\',), (\\':: Tree\\',), (\\'Carpinus betulus :: European Hornbeam\\',), (\\'Ilex aquifolium :: European Holly\\',), (\\'Lagunaria patersonii :: Primrose Tree\\',), (\\'Pinus radiata :: Monterey Pine\\',), (\\'Prunus laurocerasus :: English laurel\\',), (\\'Cercis occidentalis :: Western Redbud\\',), (\\'Prunus serrulata :: Ornamental Cherry\\',), (\\'Maytenus boaria :: Mayten\\',), (\\'Arbutus unedo :: Strawberry Tree\\',), (\\'Callistemon citrinus :: Lemon Bottlebrush\\',), (\\'Cordyline australis :: Dracena Palm\\',), (\\'Quercus suber :: Cork Oak\\',), (\\'Pseudotsuga menziesii :: Douglas Fir\\',), (\\'Quercus agrifolia :: Coast Live Oak\\',), (\\'Olea Majestic Beauty ::\\',), (\\'Platanus racemosa :: California Sycamore\\',), (\\'Metrosideros excelsa :: New Zealand Xmas Tree\\',), (\\'Quercus tomentella :: Island oak\\',), (\\'Olea europaea :: Olive Tree\\',), (\\'Quercus spp :: Oak\\',), (\\'Platanus occidentalis :: American sycamore\\',), (\\'Hakea suaveolens :: Sweet Hakea Tree\\',), (\\'Acacia melanoxylon :: Blackwood Acacia\\',), (\\'Potential Site :: Potential Site\\',), (\\'Ligustrum japonicum :: Japanese Privet\\',), (\\'Liquidambar styraciflua :: American Sweet Gum\\',), (\"Prunus subhirtella \\'autumnalis\\' :: Higan Cherry\",), (\\'Acer palmatum :: Japanese Maple\\',), (\\'Juniperus chinensis :: Juniper\\',), (\\'Ficus retusa nitida :: Banyan Fig\\',), (\\'Acacia decurrens :: Acacia: Silver Wattle\\',), (\\'Cupressus macrocarpa :: Monterey Cypress\\',), (\\'Archontophoenix cunninghamiana :: King Palm\\',), (\\'Rhamnus alaternus :: Italian Buckthorn\\',), (\\'Schinus molle :: California Pepper\\',), (\\'Crataegus phaenopyrum :: Washington Hawthorn\\',), (\\'Elaeocarpus decipiens :: Japanese Blueberry Tree\\',), (\\'Aesculus x carnea :: Red Horse Chestnut\\',), (\"Platanus x hispanica \\'Columbia\\' :: Columbia Hybrid Plane Tree\",), (\\'Eucalyptus camaldulensis :: River Red Gum\\',), (\\'Pinus pinea :: Italian Stone Pine\\',), (\\'Eucalyptus citriodora :: Lemon scented eucalyptus\\',), (\\'Schinus terebinthifolius :: Brazilian Pepper\\',), (\"Magnolia grandiflora \\'Saint Mary\\' :: Saint Mary Magnolia\",), (\\'Magnolia spp :: Magnolia\\',), (\\'Phoenix dactylifera :: Date Palm\\',), (\\'Pyrus kawakamii :: Evergreen Pear\\',), (\\'Corymbia ficifolia :: Red Flowering Gum\\',), (\\'Acacia stenophylla :: Shoestring Acacia\\',), (\\'Eriobotrya japonica :: Edible Loquat\\',), (\\'Hymenosporum flavum :: Sweetshade\\',), (\"Olea europaea \\'Wilsonii\\' :: Wilson Olive Semi-fruitless\",), (\\'::\\',), (\\'Tilia cordata :: Littleleaf Linden\\',), (\\'Eucalyptus polyanthemos :: Silver Dollar Eucalyptus\\',), (\\'Melaleuca quinquenervia :: Cajeput\\',), (\\'Agonis flexuosa :: Peppermint Willow\\',), (\\'Koelreuteria paniculata :: Golden Rain Tree\\',), (\\'Yucca elephantipes :: Giant Yucca\\',), (\"Populus nigra \\'Italica\\' :: Lombardy Poplar\",), (\\'Eucalyptus globulus :: Blue Gum\\',), (\\'Ficus microcarpa :: Chinese Banyan\\',), (\"Acacia baileyana \\'Purpurea\\' :: Purple-leaf Acacia\",), (\\'Acer buergeranum :: Trident Maple\\',), (\\'Cinnamomum camphora :: Camphor Tree\\',), (\\'Howea belmoreana :: Belmore Sentry Palm\\',), (\\'Pinus canariensis :: Canary Island Pine\\',), (\"Ceanothus \\'Ray Hartman\\' :: California Lilac \\'Ray Hartman\\'\",), (\\'Butia catarinensis :: Butia\\',), (\\'Acacia spp :: Acacia Spp\\',), (\\'Jacaranda mimosifolia :: Jacaranda\\',), (\"Eucalyptus nicholii :: Nichol\\'s Willow-Leafed Peppermint\",), (\\'Prunus spp :: Flowering Plum\\',), (\"Acer rubrum \\'October Glory\\' :: Red October Glory Maple\",), (\\'Umbellularia californica :: California Bay\\',), (\\'Melaleuca ericifolia :: Heath Melaleuca\\',), (\\'Prunus caroliniana :: Carolina Cherry Laurel\\',), (\\'Callistemon viminalis :: Weeping Bottlebrush\\',), (\\'Tristania conferta ::\\',), (\\'Magnolia champaca :: Champa\\',), (\"Acer rubrum \\'Armstrong\\' :: Armstrong Red Maple\",), (\"Pyrus calleryana \\'Bradford\\' :: Ornamental Pear: Bradford\",), (\\'Ulmus spp :: Elm Spp\\',), (\\'Photinia fraseri :: Photinia: Chinese photinia\\',), (\"Tristaniopsis laurina \\'Elegant\\' :: Small-leaf Tristania \\'Elegant\\'\",), (\\'Quercus virginiana :: Southern Live Oak\\',), (\\'Laurus nobilis :: Sweet Bay: Grecian Laurel\\',), (\\'Griselinia lucida :: Griselinia\\',), (\"Dodonaea viscosa \\'Purpurea\\' :: Purple Hopseed Bush\",), (\\'Sequoia sempervirens :: Coast Redwood\\',), (\"Ginkgo biloba \\'Autumn Gold\\' :: Ginkgo: Autumn Gold\",), (\"Ulmus carpinifolia \\'Frontier\\' :: Frontier Elm \\'Frontier\\'\",), (\\'Geijera parviflora :: Australian Willow\\',), (\"Laurus x \\'Saratoga\\' :: Hybrid Laurel\",), (\\'Melaleuca styphelliodes :: Paperbark Tree\\',), (\"Prunus serrulata \\'Kwanzan\\' :: Kwanzan Flowering Cherry\",), (\\'Acer japonicum :: Japanese Maple\\',), (\\'Araucaria heterophylla :: Norfolk Island Pine\\',), (\\'Washingtonia robusta :: Mexican Fan Palm\\',), (\\'Lagerstroemia indica :: Crape Myrtle\\',), (\\'Magnolia doltsopa :: Himalayan Magnolia\\',), (\\'Syzygium paniculatum :: Brush Cherry\\',), (\\'Pinus thunbergii :: Japanese Black Pine\\',), (\\'Cercis canadensis :: Eastern Redbud\\',), (\\'Eucalyptus Spp :: Eucalyptus\\',), (\\'Persea americana :: Avocado\\',), (\\'Pistacia chinensis :: Chinese Pistache\\',), (\"Maytenus boaria \\'Green Showers\\' :: Meyten Tree \\'Green Showers\\'\",), (\"Magnolia grandiflora \\'Russet\\' :: Russet Magnolia\",), (\\'Prunus lyonii :: Catalina Cherry\\',), (\"Aesculus x carnea \\'Briotii\\' :: Ruby Horse Chestnut\",), (\"Magnolia grandiflora \\'Majestic Beauty\\' :: Majestic Beauty Magnolia\",), (\\'Prunus spp :: Almond Tree\\',), (\\'Nerium oleander :: Oleander\\',), (\"Acacia baileyana :: Bailey\\'s Acacia\",), (\\'Grevillea robusta :: Silk Oak Tree\\',), (\\'Zelkova serrata :: Sawleaf Zelkova\\',), (\\'Fraxinus uhdei :: Shamel Ash: Evergreen Ash\\',)]'"
      ]
     },
     "execution_count": 12,
     "metadata": {},
     "output_type": "execute_result"
    }
   ],
   "source": [
    "from langchain_community.tools.sql_database.tool import QuerySQLDataBaseTool\n",
    "\n",
    "write_query = create_sql_query_chain(llm, db)\n",
    "\n",
    "execute_query = QuerySQLDataBaseTool(db=db)\n",
    "\n",
    "chain = write_query | execute_query\n",
    "\n",
    "chain.invoke({\"question\": \"List the species of trees that are present in San Francisco\"})"
   ]
  },
  {
   "cell_type": "markdown",
   "id": "dea71915-1b8f-452b-8729-541e10515ecf",
   "metadata": {},
   "source": [
    "### Step 3: Translate the SQL response into a natural language response"
   ]
  },
  {
   "cell_type": "code",
   "execution_count": 13,
   "id": "7e2ec38b-d810-40b3-8135-99683a6dccdf",
   "metadata": {},
   "outputs": [
    {
     "data": {
      "text/plain": [
       "\"The species of trees present in San Francisco are as follows:\\n- Arbutus 'Marina' :: Hybrid Strawberry Tree\\n- Afrocarpus gracilior :: Fern Pine\\n- Thuja occidentalis 'Emerald' :: Emerald Arborvitae\\n- Magnolia grandiflora 'Little Gem' :: Little Gem Magnolia\\n- Platanus x hispanica :: Sycamore: London Plane\\n- Ulmus parvifolia :: Chinese Elm\\n- Leptospermum laevigatum :: Australian Tea Tree\\n- Olea europaea 'Fruitless' :: Fruitless Olive\\n- Ficus rubiginosa :: Port Jackson Fig\\n- Cycas revoluta :: Sago palm\\n- Lophostemon confertus :: Brisbane Box\\n- Podocarpus gracilor :: Fern Pine\\n- Eriobotrya deflexa :: Bronze Loquat\\n- Ligustrum lucidum :: Glossy Privet\\n- Syagrus romanzoffianum :: Queen Palm\\n- Ficus microcarpa nitida 'Green Gem' :: Indian Laurel Fig Tree 'Green Gem'\\n- Prunus cerasifera :: Cherry Plum\\n- Myoporum laetum :: Myoporum\\n- Tristaniopsis laurina :: Swamp Myrtle\\n- Ginkgo biloba :: Maidenhair Tree\\n- Pyrus calleryana :: Ornamental Pear\\n- Morus alba 'Fruitless' :: Fruitless Mulberry\\n- Magnolia grandiflora :: Southern Magnolia\\n- Pittosporum undulatum :: Victorian Box\\n- Lyonothamnus floribundus subsp. asplenifolius :: Santa Cruz Ironwood\\n- Leptospermum scoparium :: New Zealand Tea Tree\\n- Acer rubrum :: Red Maple\\n- Carpinus betulus :: European Hornbeam\\n- Ilex aquifolium :: European Holly\\n- Lagunaria patersonii :: Primrose Tree\\n- Pinus radiata :: Monterey Pine\\n- Prunus laurocerasus :: English laurel\\n- Cercis occidentalis :: Western Redbud\\n- Prunus serrulata :: Ornamental Cherry\\n- Maytenus boaria :: Mayten\\n- Arbutus unedo :: Strawberry Tree\\n- Callistemon citrinus :: Lemon Bottlebrush\\n- Cordyline australis :: Dracena Palm\\n- Quercus suber :: Cork Oak\\n- Pseudotsuga menziesii :: Douglas Fir\\n- Quercus agrifolia :: Coast Live Oak\\n- Olea Majestic Beauty ::\\n- Platanus racemosa :: California Sycamore\\n- Metrosideros excelsa :: New Zealand Xmas Tree\\n- Quercus tomentella :: Island oak\\n- Olea europaea :: Olive Tree\\n- Quercus spp :: Oak\\n- Platanus occidentalis :: American sycamore\\n- Hakea suaveolens :: Sweet Hakea Tree\\n- Acacia melanoxylon :: Blackwood Acacia\\n- Ligustrum japonicum :: Japanese Privet\\n- Liquidambar styraciflua :: American Sweet Gum\\n- Prunus subhirtella 'autumnalis' :: Higan Cherry\\n- Acer palmatum :: Japanese Maple\\n- Juniperus chinensis :: Juniper\\n- Ficus retusa nitida :: Banyan Fig\\n- Acacia decurrens :: Acacia: Silver Wattle\\n- Cupressus macrocarpa :: Monterey Cypress\\n- Archontophoenix cunninghamiana :: King Palm\\n- Rhamnus alaternus :: Italian Buckthorn\\n- Schinus molle :: California Pepper\\n- Crataegus phaenopyrum :: Washington Hawthorn\\n- Elaeocarpus decipiens :: Japanese Blueberry Tree\\n- Aesculus x carnea :: Red Horse Chestnut\\n- Platanus x hispanica 'Columbia' :: Columbia Hybrid Plane Tree\\n- Eucalyptus camaldulensis :: River Red Gum\\n- Pinus pinea :: Italian Stone Pine\\n- Eucalyptus citriodora :: Lemon scented eucalyptus\\n- Schinus terebinthifolius :: Brazilian Pepper\\n- Magnolia grandiflora 'Saint Mary' :: Saint Mary Magnolia\\n- Magnolia spp :: Magnolia\\n- Phoenix dactylifera :: Date Palm\\n- Pyrus kawakamii :: Evergreen Pear\\n- Corymbia ficifolia :: Red Flowering Gum\\n- Acacia stenophylla :: Shoestring Acacia\\n- Eriobotrya japonica :: Edible Loquat\\n- Hymenosporum flavum :: Sweetshade\\n- Olea europaea 'Wilsonii' :: Wilson Olive Semi-fruitless\\n- Tilia cordata :: Littleleaf Linden\\n- Eucalyptus polyanthemos :: Silver Dollar Eucalyptus\\n- Melaleuca quinquenervia :: Cajeput\\n- Agonis flexuosa :: Peppermint Willow\\n- Koelreuteria paniculata :: Golden Rain Tree\\n- Yucca elephantipes :: Giant Yucca\\n- Populus nigra 'Italica' :: Lombardy Poplar\\n- Eucalyptus globulus :: Blue Gum\\n- Ficus microcarpa :: Chinese Banyan\\n- Acacia baileyana 'Purpurea' :: Purple-leaf Acacia\\n- Acer buergeranum :: Trident Maple\\n- Cinnamomum camphora :: Camphor Tree\\n- Howea belmoreana :: Belmore Sentry Palm\\n- Pinus canariensis :: Canary Island Pine\\n- Ceanothus 'Ray Hartman' :: California Lilac 'Ray Hartman'\\n- Butia catarinensis :: Butia\\n- Acacia spp :: Acacia Spp\\n- Jacaranda mimosifolia :: Jacaranda\\n- Eucalyptus nicholii :: Nichol's Willow-Leafed Peppermint\\n- Acer rubrum 'October Glory' :: Red October Glory Maple\\n- Umbellularia californica :: California Bay\\n- Melaleuca ericifolia :: Heath Melaleuca\\n- Prunus caroliniana :: Carolina Cherry Laurel\\n- Callistemon viminalis :: Weeping Bottlebrush\\n- Tristania conferta ::\\n- Magnolia champaca :: Champa\\n- Acer rubrum 'Armstrong' :: Armstrong Red Maple\\n- Pyrus calleryana 'Bradford' :: Ornamental Pear: Bradford\\n- Ulmus spp :: Elm Spp\\n- Photinia fraseri :: Photinia: Chinese photinia\\n- Tristaniopsis laurina 'Elegant' :: Small-leaf Tristania 'Elegant'\\n- Quercus virginiana :: Southern Live Oak\\n- Laurus nobilis :: Sweet Bay: Grecian Laurel\\n- Griselinia lucida :: Griselinia\\n- Dodonaea viscosa 'Purpurea' :: Purple Hopseed Bush\\n- Sequoia sempervirens :: Coast Redwood\\n- Ginkgo biloba 'Autumn Gold' :: Ginkgo: Autumn Gold\\n- Ulmus carpinifolia 'Frontier' :: Frontier Elm 'Frontier'\\n- Geijera parviflora :: Australian Willow\\n- Laurus x 'Saratoga' :: Hybrid Laurel\\n- Melaleuca styphelliodes :: Paperbark Tree\\n- Prunus serrulata 'Kwanzan' :: Kwanzan Flowering Cherry\\n- Acer japonicum :: Japanese Maple\\n- Araucaria heterophylla :: Norfolk Island Pine\\n- Washingtonia robusta :: Mexican Fan Palm\\n- Lagerstroemia indica :: Crape Myrtle\\n- Magnolia doltsopa :: Himalayan Magnolia\\n- Syzygium paniculatum :: Brush Cherry\\n- Pinus thunbergii :: Japanese Black Pine\\n- Cercis canadensis :: Eastern Redbud\\n- Eucalyptus Spp :: Eucalyptus\\n- Persea americana :: Avocado\\n- Pistacia chinensis :: Chinese Pistache\\n- Maytenus boaria 'Green Showers' :: Meyten Tree 'Green Showers'\\n- Magnolia grandiflora 'Russet' :: Russet Magnolia\\n- Prunus lyonii :: Catalina Cherry\\n- Aesculus x carnea 'Briotii' :: Ruby Horse Chestnut\\n- Magnolia grandiflora 'Majestic Beauty' :: Majestic Beauty Magnolia\\n- Prunus spp :: Almond Tree\\n- Nerium oleander :: Oleander\\n- Acacia baileyana :: Bailey's Acacia\\n- Grevillea robusta :: Silk Oak Tree\\n- Zelkova serrata :: Sawleaf Zelkova\\n- Fraxinus uhdei :: Shamel Ash: Evergreen Ash\""
      ]
     },
     "execution_count": 13,
     "metadata": {},
     "output_type": "execute_result"
    }
   ],
   "source": [
    "from operator import itemgetter\n",
    "\n",
    "from langchain_core.output_parsers import StrOutputParser\n",
    "from langchain_core.prompts import PromptTemplate\n",
    "from langchain_core.runnables import RunnablePassthrough\n",
    "\n",
    "sqlite_db_path = \"data/street_tree_db.sqlite\"\n",
    "\n",
    "db = SQLDatabase.from_uri(f\"sqlite:///{sqlite_db_path}\")\n",
    "\n",
    "llm = ChatOpenAI(model=\"gpt-3.5-turbo-0125\")\n",
    "\n",
    "answer_prompt = PromptTemplate.from_template(\n",
    "    \"\"\"Given the following user question, \n",
    "    corresponding SQL query, and SQL result, \n",
    "    answer the user question.\n",
    "\n",
    "Question: {question}\n",
    "SQL Query: {query}\n",
    "SQL Result: {result}\n",
    "Answer: \"\"\"\n",
    ")\n",
    "\n",
    "write_query = create_sql_query_chain(llm, db)\n",
    "\n",
    "execute_query = QuerySQLDataBaseTool(db=db)\n",
    "\n",
    "#chain = write_query | execute_query\n",
    "\n",
    "#chain.invoke({\"question\": \"List the species of trees that are present in San Francisco\"})\n",
    "\n",
    "chain = (\n",
    "    RunnablePassthrough.assign(query=write_query).assign(\n",
    "        result=itemgetter(\"query\") | execute_query\n",
    "    )\n",
    "    | answer_prompt\n",
    "    | llm\n",
    "    | StrOutputParser()\n",
    ")\n",
    "\n",
    "chain.invoke({\"question\": \"List the species of trees that are present in San Francisco\"})"
   ]
  },
  {
   "cell_type": "code",
   "execution_count": null,
   "id": "fa7b7866-00e8-40d8-ab54-5626e4c4e1b9",
   "metadata": {},
   "outputs": [],
   "source": []
  }
 ],
 "metadata": {
  "kernelspec": {
   "display_name": "Python 3 (ipykernel)",
   "language": "python",
   "name": "python3"
  },
  "language_info": {
   "codemirror_mode": {
    "name": "ipython",
    "version": 3
   },
   "file_extension": ".py",
   "mimetype": "text/x-python",
   "name": "python",
   "nbconvert_exporter": "python",
   "pygments_lexer": "ipython3",
   "version": "3.9.4"
  }
 },
 "nbformat": 4,
 "nbformat_minor": 5
}
