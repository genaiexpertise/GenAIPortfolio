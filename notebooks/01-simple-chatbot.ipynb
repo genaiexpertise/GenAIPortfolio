{
 "cells": [
  {
   "cell_type": "markdown",
   "id": "8092fed6-809e-4c34-84f8-6c09aeb36e0b",
   "metadata": {},
   "source": [
    "# How to build a simple Chatbot with stored memory using LangChain"
   ]
  },
  {
   "cell_type": "code",
   "execution_count": 1,
   "id": "d0c5cc4e-0ac2-4b09-bbe3-608b3431788d",
   "metadata": {},
   "outputs": [],
   "source": [
    "import warnings\n",
    "from langchain._api import LangChainDeprecationWarning\n",
    "\n",
    "warnings.simplefilter(\"ignore\", category=LangChainDeprecationWarning)"
   ]
  },
  {
   "cell_type": "code",
   "execution_count": 3,
   "id": "1d999d4f-b285-4d8a-b7c9-924608a40202",
   "metadata": {},
   "outputs": [],
   "source": [
    "# connect with .env file \n",
    "import os\n",
    "from dotenv import load_dotenv, find_dotenv\n",
    "_ = load_dotenv(find_dotenv())\n",
    "openai_api_key = os.environ[\"OPENAI_API_KEY\"]"
   ]
  },
  {
   "cell_type": "code",
   "execution_count": 4,
   "id": "2d1dc3ef-90e6-4c2f-bebb-d757774c72e8",
   "metadata": {},
   "outputs": [],
   "source": [
    "# Connect with an LLM and start a conversation with it\n",
    "\n",
    "from langchain_openai import ChatOpenAI\n",
    "\n",
    "chatbot = ChatOpenAI(model=\"gpt-3.5-turbo\")"
   ]
  },
  {
   "cell_type": "code",
   "execution_count": 5,
   "id": "baa6f689-5425-4a26-9ac5-793c3328fcfd",
   "metadata": {},
   "outputs": [],
   "source": [
    "from langchain_core.messages import HumanMessage\n",
    "\n",
    "messagesToTheChatbot = [\n",
    "    HumanMessage(content=\"My favorite color is blue.\"),\n",
    "]"
   ]
  },
  {
   "cell_type": "code",
   "execution_count": 6,
   "id": "24193784-957a-4e05-bbb2-3a2f68099bb3",
   "metadata": {},
   "outputs": [
    {
     "data": {
      "text/plain": [
       "AIMessage(content=\"Blue is a calming and relaxing color that reminds me of the ocean and the sky. It is a versatile color that can be both soothing and invigorating. I love how it can be both subtle and bold, depending on the shade. Blue is a timeless and classic color that never goes out of style. It's a color that brings me a sense of peace and tranquility whenever I see it.\", additional_kwargs={'refusal': None}, response_metadata={'token_usage': {'completion_tokens': 81, 'prompt_tokens': 13, 'total_tokens': 94}, 'model_name': 'gpt-3.5-turbo-0125', 'system_fingerprint': None, 'finish_reason': 'stop', 'logprobs': None}, id='run-0d81b27e-e61d-4479-9a19-4a5f2d9df493-0', usage_metadata={'input_tokens': 13, 'output_tokens': 81, 'total_tokens': 94})"
      ]
     },
     "execution_count": 6,
     "metadata": {},
     "output_type": "execute_result"
    }
   ],
   "source": [
    "# Call the ChatModel (the LLM)¶\n",
    "chatbot.invoke(messagesToTheChatbot)"
   ]
  },
  {
   "cell_type": "code",
   "execution_count": 7,
   "id": "e4279c79-9af4-4156-9c8f-dbdd032fe614",
   "metadata": {},
   "outputs": [
    {
     "data": {
      "text/plain": [
       "AIMessage(content=\"I'm sorry, I do not have the ability to know your favorite color.\", additional_kwargs={'refusal': None}, response_metadata={'token_usage': {'completion_tokens': 16, 'prompt_tokens': 13, 'total_tokens': 29}, 'model_name': 'gpt-3.5-turbo-0125', 'system_fingerprint': None, 'finish_reason': 'stop', 'logprobs': None}, id='run-48c63b6b-c591-4e52-8970-ff0e58e0aabe-0', usage_metadata={'input_tokens': 13, 'output_tokens': 16, 'total_tokens': 29})"
      ]
     },
     "execution_count": 7,
     "metadata": {},
     "output_type": "execute_result"
    }
   ],
   "source": [
    "# Check if the Chatbot remembers your favorite color.¶\n",
    "chatbot.invoke([\n",
    "    HumanMessage(content=\"What is my favorite color?\")\n",
    "])"
   ]
  },
  {
   "cell_type": "markdown",
   "id": "96058489-cd90-4004-844c-4ea3b8a26e71",
   "metadata": {},
   "source": [
    "## Let's add memory to our Chatbot"
   ]
  },
  {
   "cell_type": "code",
   "execution_count": 10,
   "id": "7bed0841-867c-42ff-a44e-f9a400f4895d",
   "metadata": {},
   "outputs": [],
   "source": [
    "from langchain import LLMChain\n",
    "from langchain_core.prompts import ChatPromptTemplate\n",
    "from langchain_core.prompts import HumanMessagePromptTemplate\n",
    "from langchain_core.prompts import MessagesPlaceholder\n",
    "from langchain.memory import ConversationBufferMemory\n",
    "from langchain.memory import FileChatMessageHistory"
   ]
  },
  {
   "cell_type": "code",
   "execution_count": 11,
   "id": "d2f80415-fbca-452a-aa24-0218860f1718",
   "metadata": {},
   "outputs": [],
   "source": [
    "memory = ConversationBufferMemory(\n",
    "    chat_memory=FileChatMessageHistory(\"messages.json\"),\n",
    "    memory_key=\"messages\",\n",
    "    return_messages=True\n",
    ")"
   ]
  },
  {
   "cell_type": "code",
   "execution_count": 12,
   "id": "98259c2d-af1f-47e4-9145-3e4195012fc5",
   "metadata": {},
   "outputs": [],
   "source": [
    "prompt = ChatPromptTemplate(\n",
    "    input_variables=[\"content\", \"messages\"],\n",
    "    messages=[\n",
    "        MessagesPlaceholder(variable_name=\"messages\"),\n",
    "        HumanMessagePromptTemplate.from_template(\"{content}\")\n",
    "    ]\n",
    ")"
   ]
  },
  {
   "cell_type": "code",
   "execution_count": 13,
   "id": "7d6e84e5-b047-4073-aaa2-99b43926f750",
   "metadata": {},
   "outputs": [],
   "source": [
    "chain = LLMChain(\n",
    "    llm=chatbot,\n",
    "    prompt=prompt,\n",
    "    memory=memory\n",
    ")"
   ]
  },
  {
   "cell_type": "code",
   "execution_count": 14,
   "id": "98b5c966-c456-455f-b0b5-19248787b75a",
   "metadata": {},
   "outputs": [
    {
     "data": {
      "text/plain": [
       "{'content': 'hello!',\n",
       " 'messages': [],\n",
       " 'text': 'Hello! How can I assist you today?'}"
      ]
     },
     "execution_count": 14,
     "metadata": {},
     "output_type": "execute_result"
    }
   ],
   "source": [
    "chain.invoke(\"hello!\")"
   ]
  },
  {
   "cell_type": "code",
   "execution_count": 15,
   "id": "bcef55f7-9652-47fe-8520-3214f0dfc8ce",
   "metadata": {},
   "outputs": [
    {
     "data": {
      "text/plain": [
       "{'content': 'my name is Julio',\n",
       " 'messages': [HumanMessage(content='hello!'),\n",
       "  AIMessage(content='Hello! How can I assist you today?')],\n",
       " 'text': \"Hello Julio! It's nice to meet you. How can I help you today?\"}"
      ]
     },
     "execution_count": 15,
     "metadata": {},
     "output_type": "execute_result"
    }
   ],
   "source": [
    "chain.invoke(\"my name is Julio\")"
   ]
  },
  {
   "cell_type": "code",
   "execution_count": 16,
   "id": "af58e741-9d24-4755-aec2-3662b782432a",
   "metadata": {},
   "outputs": [
    {
     "data": {
      "text/plain": [
       "{'content': 'what is my name?',\n",
       " 'messages': [HumanMessage(content='hello!'),\n",
       "  AIMessage(content='Hello! How can I assist you today?'),\n",
       "  HumanMessage(content='my name is Julio'),\n",
       "  AIMessage(content=\"Hello Julio! It's nice to meet you. How can I help you today?\")],\n",
       " 'text': 'Your name is Julio.'}"
      ]
     },
     "execution_count": 16,
     "metadata": {},
     "output_type": "execute_result"
    }
   ],
   "source": [
    "chain.invoke(\"what is my name?\")"
   ]
  },
  {
   "cell_type": "code",
   "execution_count": null,
   "id": "fc1d6c80-b87e-42fb-9e83-2a8d25575e1f",
   "metadata": {},
   "outputs": [],
   "source": []
  }
 ],
 "metadata": {
  "kernelspec": {
   "display_name": "Python 3 (ipykernel)",
   "language": "python",
   "name": "python3"
  },
  "language_info": {
   "codemirror_mode": {
    "name": "ipython",
    "version": 3
   },
   "file_extension": ".py",
   "mimetype": "text/x-python",
   "name": "python",
   "nbconvert_exporter": "python",
   "pygments_lexer": "ipython3",
   "version": "3.9.4"
  }
 },
 "nbformat": 4,
 "nbformat_minor": 5
}
