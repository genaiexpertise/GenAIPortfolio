{
 "cells": [
  {
   "cell_type": "markdown",
   "id": "04d6623d-e1b9-40c4-b230-46642478f574",
   "metadata": {},
   "source": [
    "# Sentiment Analysis App\n",
    "\n",
    "* Sentiment Analysis is a very popular functionality. For example, be able to determine if a product review is positive or negative.\n",
    "* Our app will be able to do more than that. It will be a text classification app, also called a \"tagging\" app.\n",
    "* In short, we will create an app to classify text into labels. And these labels can be:\n",
    "    * Sentiment: Sentiment Analysis app.\n",
    "    * Language: Language Analysis app.\n",
    "    * Style (formal, informal, etc): Style Analysis app.\n",
    "    * Topics or categories: Topic or category Analysis app.\n",
    "    * Political tendency: Political Analysis app.\n",
    "    * Etc."
   ]
  },
  {
   "cell_type": "code",
   "execution_count": 1,
   "id": "c8113c87-2d5d-40ed-bccd-9ac698102ab3",
   "metadata": {},
   "outputs": [],
   "source": [
    "import os\n",
    "from dotenv import load_dotenv, find_dotenv\n",
    "_ = load_dotenv(find_dotenv())\n",
    "openai_api_key = os.environ[\"OPENAI_API_KEY\"]"
   ]
  },
  {
   "cell_type": "code",
   "execution_count": 2,
   "id": "fe892b68-e24a-4aa2-aad7-66350f4a18d8",
   "metadata": {},
   "outputs": [],
   "source": [
    "# Connect with an LLM\n",
    "\n",
    "from langchain_openai import ChatOpenAI\n",
    "\n",
    "llm = ChatOpenAI(model=\"gpt-3.5-turbo-0125\")"
   ]
  },
  {
   "cell_type": "markdown",
   "id": "6ac5f00c-19f0-4e90-a952-1331760227ad",
   "metadata": {},
   "source": [
    "### Tag Definition\n",
    "\n",
    "In the following code we define the 3 tags we will analize in this app:\n",
    "\n",
    "sentiment.\n",
    "\n",
    "political tendency.\n",
    "\n",
    "language."
   ]
  },
  {
   "cell_type": "code",
   "execution_count": 3,
   "id": "2dc0a7ed-33b2-40a9-b26f-f5f26a90c20d",
   "metadata": {},
   "outputs": [],
   "source": [
    "from langchain_core.prompts import ChatPromptTemplate\n",
    "from langchain_core.pydantic_v1 import BaseModel, Field\n",
    "\n",
    "tagging_prompt = ChatPromptTemplate.from_template(\n",
    "    \"\"\"\n",
    "Extract the desired information from the following passage.\n",
    "\n",
    "Only extract the properties mentioned in the 'Classification' function.\n",
    "\n",
    "Passage:\n",
    "{input}\n",
    "\"\"\"\n",
    ")\n",
    "\n",
    "class Classification(BaseModel):\n",
    "    sentiment: str = Field(description=\"The sentiment of the text\")\n",
    "    political_tendency: str = Field(\n",
    "        description=\"The political tendency of the user\"\n",
    "    )\n",
    "    language: str = Field(description=\"The language the text is written in\")\n",
    "\n",
    "\n",
    "# LLM\n",
    "llm = ChatOpenAI(temperature=0, model=\"gpt-3.5-turbo-0125\").with_structured_output(\n",
    "    Classification\n",
    ")\n",
    "\n",
    "tagging_chain = tagging_prompt | llm"
   ]
  },
  {
   "cell_type": "code",
   "execution_count": 4,
   "id": "a1ce17a8-45aa-4f58-9d18-45f4e2128a3f",
   "metadata": {},
   "outputs": [],
   "source": [
    "trump_follower = \"I'm confident that President Trump's leadership and track record will once again resonate with Americans. His strong stance on economic growth and national security is exactly what our country needs at this pivotal moment. We need to bring back the proven leadership that can make America great again!\""
   ]
  },
  {
   "cell_type": "code",
   "execution_count": 5,
   "id": "db6fded4-c336-4d80-bc87-a4d36b3be526",
   "metadata": {},
   "outputs": [],
   "source": [
    "biden_follower = \"I believe President Biden's compassionate and steady approach is vital for our nation right now. His commitment to healthcare reform, climate change, and restoring our international alliances is crucial. It's time to continue the progress and ensure a future that benefits all Americans.\""
   ]
  },
  {
   "cell_type": "code",
   "execution_count": 6,
   "id": "ccfad3ab-6805-4037-bc33-1849d8a88e13",
   "metadata": {},
   "outputs": [
    {
     "data": {
      "text/plain": [
       "Classification(sentiment='positive', political_tendency='pro-Trump', language='English')"
      ]
     },
     "execution_count": 6,
     "metadata": {},
     "output_type": "execute_result"
    }
   ],
   "source": [
    "tagging_chain.invoke({\"input\": trump_follower})"
   ]
  },
  {
   "cell_type": "code",
   "execution_count": 7,
   "id": "fb6d5fc6-67d0-4f52-9142-726aafea44bb",
   "metadata": {},
   "outputs": [
    {
     "data": {
      "text/plain": [
       "Classification(sentiment='positive', political_tendency='supportive', language='English')"
      ]
     },
     "execution_count": 7,
     "metadata": {},
     "output_type": "execute_result"
    }
   ],
   "source": [
    "tagging_chain.invoke({\"input\": biden_follower})"
   ]
  },
  {
   "cell_type": "markdown",
   "id": "277b259f-8db7-4556-afa2-eb4d1ef20843",
   "metadata": {},
   "source": [
    "Careful schema definition gives us more control over the model's output.\n",
    "\n",
    "Specifically, we can define:\n",
    "\n",
    "Possible values for each property.\n",
    "Description to make sure that the model understands the property.\n",
    "Required properties to be returned.\n",
    "Let's redeclare our Pydantic model to control for each of the previously mentioned aspects using enums:"
   ]
  },
  {
   "cell_type": "code",
   "execution_count": 8,
   "id": "106cb8bb-9d02-4584-851c-acd1c7a1fefa",
   "metadata": {},
   "outputs": [],
   "source": [
    "class Classification(BaseModel):\n",
    "    sentiment: str = Field(..., enum=[\"happy\", \"neutral\", \"sad\"])\n",
    "    political_tendency: str = Field(\n",
    "        ...,\n",
    "        description=\"The political tendency of the user\",\n",
    "        enum=[\"conservative\", \"liberal\", \"independent\"],\n",
    "    )\n",
    "    language: str = Field(\n",
    "        ..., enum=[\"spanish\", \"english\"]\n",
    "    )"
   ]
  },
  {
   "cell_type": "code",
   "execution_count": 9,
   "id": "139bf717-8ec9-42f0-9aa4-d6fcea31e907",
   "metadata": {},
   "outputs": [],
   "source": [
    "tagging_prompt = ChatPromptTemplate.from_template(\n",
    "    \"\"\"\n",
    "Extract the desired information from the following passage.\n",
    "\n",
    "Only extract the properties mentioned in the 'Classification' function.\n",
    "\n",
    "Passage:\n",
    "{input}\n",
    "\"\"\"\n",
    ")\n",
    "\n",
    "llm = ChatOpenAI(temperature=0, model=\"gpt-3.5-turbo-0125\").with_structured_output(\n",
    "    Classification\n",
    ")\n",
    "\n",
    "tagging_chain = tagging_prompt | llm"
   ]
  },
  {
   "cell_type": "code",
   "execution_count": 10,
   "id": "137cb7b6-2651-457c-a43c-46f2ad17aea2",
   "metadata": {},
   "outputs": [
    {
     "data": {
      "text/plain": [
       "Classification(sentiment='happy', political_tendency='conservative', language='english')"
      ]
     },
     "execution_count": 10,
     "metadata": {},
     "output_type": "execute_result"
    }
   ],
   "source": [
    "tagging_chain.invoke({\"input\": trump_follower})"
   ]
  },
  {
   "cell_type": "code",
   "execution_count": 11,
   "id": "924ffbff-e062-46db-a907-66760d357f5f",
   "metadata": {},
   "outputs": [
    {
     "data": {
      "text/plain": [
       "Classification(sentiment='happy', political_tendency='liberal', language='english')"
      ]
     },
     "execution_count": 11,
     "metadata": {},
     "output_type": "execute_result"
    }
   ],
   "source": [
    "tagging_chain.invoke({\"input\": biden_follower})"
   ]
  },
  {
   "cell_type": "code",
   "execution_count": null,
   "id": "9714a8f2-dd41-4063-9996-43486e4f17b4",
   "metadata": {},
   "outputs": [],
   "source": []
  }
 ],
 "metadata": {
  "kernelspec": {
   "display_name": "Python 3 (ipykernel)",
   "language": "python",
   "name": "python3"
  },
  "language_info": {
   "codemirror_mode": {
    "name": "ipython",
    "version": 3
   },
   "file_extension": ".py",
   "mimetype": "text/x-python",
   "name": "python",
   "nbconvert_exporter": "python",
   "pygments_lexer": "ipython3",
   "version": "3.9.4"
  }
 },
 "nbformat": 4,
 "nbformat_minor": 5
}
